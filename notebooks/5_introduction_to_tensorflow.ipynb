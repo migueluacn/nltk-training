{
  "nbformat": 4,
  "nbformat_minor": 0,
  "metadata": {
    "colab": {
      "name": "5-introduction-to-tensorflow.ipynb",
      "version": "0.3.2",
      "provenance": [],
      "collapsed_sections": []
    },
    "kernelspec": {
      "name": "python3",
      "display_name": "Python 3"
    },
    "accelerator": "GPU"
  },
  "cells": [
    {
      "metadata": {
        "id": "sdprsm5f3tDy",
        "colab_type": "code",
        "colab": {}
      },
      "cell_type": "code",
      "source": [
        "import tensorflow as tf"
      ],
      "execution_count": 0,
      "outputs": []
    },
    {
      "metadata": {
        "id": "7DMYYQUd3zoF",
        "colab_type": "code",
        "colab": {}
      },
      "cell_type": "code",
      "source": [
        "import numpy as np\n",
        "from sklearn.datasets import load_iris"
      ],
      "execution_count": 0,
      "outputs": []
    },
    {
      "metadata": {
        "id": "hXSxfbXV31Wu",
        "colab_type": "code",
        "colab": {}
      },
      "cell_type": "code",
      "source": [
        "x = load_iris().data\n",
        "y = load_iris().target"
      ],
      "execution_count": 0,
      "outputs": []
    },
    {
      "metadata": {
        "id": "0ehMZJ0y4vSy",
        "colab_type": "code",
        "colab": {
          "base_uri": "https://localhost:8080/",
          "height": 191
        },
        "outputId": "7bced712-491b-4180-97e0-2d778aad2290"
      },
      "cell_type": "code",
      "source": [
        "x[:10], y[:10]"
      ],
      "execution_count": 14,
      "outputs": [
        {
          "output_type": "execute_result",
          "data": {
            "text/plain": [
              "(array([[5.1, 3.5, 1.4, 0.2],\n",
              "        [4.9, 3. , 1.4, 0.2],\n",
              "        [4.7, 3.2, 1.3, 0.2],\n",
              "        [4.6, 3.1, 1.5, 0.2],\n",
              "        [5. , 3.6, 1.4, 0.2],\n",
              "        [5.4, 3.9, 1.7, 0.4],\n",
              "        [4.6, 3.4, 1.4, 0.3],\n",
              "        [5. , 3.4, 1.5, 0.2],\n",
              "        [4.4, 2.9, 1.4, 0.2],\n",
              "        [4.9, 3.1, 1.5, 0.1]]), array([0, 0, 0, 0, 0, 0, 0, 0, 0, 0]))"
            ]
          },
          "metadata": {
            "tags": []
          },
          "execution_count": 14
        }
      ]
    },
    {
      "metadata": {
        "id": "_r90qtWp4XV-",
        "colab_type": "code",
        "colab": {
          "base_uri": "https://localhost:8080/",
          "height": 35
        },
        "outputId": "b010eda6-2d5d-409b-aab7-6b5c6f973a92"
      },
      "cell_type": "code",
      "source": [
        "np.unique(y)"
      ],
      "execution_count": 15,
      "outputs": [
        {
          "output_type": "execute_result",
          "data": {
            "text/plain": [
              "array([0, 1, 2])"
            ]
          },
          "metadata": {
            "tags": []
          },
          "execution_count": 15
        }
      ]
    },
    {
      "metadata": {
        "id": "aYahbRJ-440u",
        "colab_type": "code",
        "colab": {}
      },
      "cell_type": "code",
      "source": [
        "#[batch_size, 4]\n",
        "input_features = tf.placeholder(dtype=tf.float32, shape=[None, 4])\n",
        "\n",
        "#[batch_size, 3]\n",
        "input_labels = tf.placeholder(dtype=tf.float32, shape=[None, 3])\n",
        "\n",
        "#[4, 3]\n",
        "weights = tf.Variable(tf.random_normal(shape=[4, 3]))\n",
        "# [3]\n",
        "biases = tf.Variable(tf.random_normal(shape=[3]))\n",
        "\n",
        "#[batch_size, 4] x [4, 3] = [batch_size, 3]\n",
        "#[batch+size, 3] + [3] = [batch_size, 3]\n",
        "linear_model=tf.add(tf.matmul(input_features, weights), biases)\n",
        "\n",
        "#average (wx + b - y)**2\n",
        "loss = tf.reduce_mean(tf.square(linear_model - input_labels))\n",
        "train_op = tf.train.GradientDescentOptimizer(learning_rate=0.001).minimize(loss)"
      ],
      "execution_count": 0,
      "outputs": []
    },
    {
      "metadata": {
        "id": "dMXKFWrG8pbq",
        "colab_type": "code",
        "colab": {}
      },
      "cell_type": "code",
      "source": [
        "sess = tf.Session()"
      ],
      "execution_count": 0,
      "outputs": []
    },
    {
      "metadata": {
        "id": "lmrYwn8s8rbc",
        "colab_type": "code",
        "colab": {}
      },
      "cell_type": "code",
      "source": [
        "sess.run(tf.global_variables_initializer())"
      ],
      "execution_count": 0,
      "outputs": []
    },
    {
      "metadata": {
        "id": "Xqhavy1c8v_e",
        "colab_type": "code",
        "colab": {}
      },
      "cell_type": "code",
      "source": [
        "def next_batch(batch_size, features, labels):\n",
        "  indices = np.arange(start=0, stop=features.shape[0])\n",
        "  np.random.shuffle(indices)\n",
        "  indices = indices[:batch_size]\n",
        "  return features[indices], labels[indices]"
      ],
      "execution_count": 0,
      "outputs": []
    },
    {
      "metadata": {
        "id": "ptKWVaDZ8-Dv",
        "colab_type": "code",
        "colab": {
          "base_uri": "https://localhost:8080/",
          "height": 208
        },
        "outputId": "35d04a43-2bd9-418f-b29d-0522d266ccd0"
      },
      "cell_type": "code",
      "source": [
        "batch_size = 16\n",
        "for epoch in range(10):\n",
        "  for index in range(int(x.shape[0] / batch_size)):\n",
        "    mini_batch_x, mini_batch_y = next_batch(batch_size=batch_size, features=x, labels=y)\n",
        "    from keras.utils import to_categorical\n",
        "    mini_batch_y = to_categorical(mini_batch_y)\n",
        "    _, train_loss = sess.run([train_op, loss], feed_dict={\n",
        "        input_features: mini_batch_x,\n",
        "        input_labels: mini_batch_y\n",
        "    })\n",
        "  print('Epoch {}, loss: {}' .format(epoch, train_loss))"
      ],
      "execution_count": 31,
      "outputs": [
        {
          "output_type": "stream",
          "text": [
            "Using TensorFlow backend.\n"
          ],
          "name": "stderr"
        },
        {
          "output_type": "stream",
          "text": [
            "Epoch 0, loss: 11.966468811035156\n",
            "Epoch 1, loss: 5.635255336761475\n",
            "Epoch 2, loss: 6.687509059906006\n",
            "Epoch 3, loss: 3.3615245819091797\n",
            "Epoch 4, loss: 1.5477522611618042\n",
            "Epoch 5, loss: 3.0067832469940186\n",
            "Epoch 6, loss: 2.505309820175171\n",
            "Epoch 7, loss: 2.468456506729126\n",
            "Epoch 8, loss: 2.3034348487854004\n",
            "Epoch 9, loss: 1.748600959777832\n"
          ],
          "name": "stdout"
        }
      ]
    }
  ]
}