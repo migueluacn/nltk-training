{
  "nbformat": 4,
  "nbformat_minor": 0,
  "metadata": {
    "colab": {
      "name": "0-introduction-to-python-and-numpy.ipynb",
      "version": "0.3.2",
      "provenance": [],
      "collapsed_sections": []
    },
    "kernelspec": {
      "name": "python3",
      "display_name": "Python 3"
    },
    "accelerator": "GPU"
  },
  "cells": [
    {
      "metadata": {
        "id": "s_s006NSasE7",
        "colab_type": "code",
        "colab": {
          "base_uri": "https://localhost:8080/",
          "height": 35
        },
        "outputId": "b295af7e-8087-4049-eaba-9a623b06eaca"
      },
      "cell_type": "code",
      "source": [
        "print ('Hello World')"
      ],
      "execution_count": 1,
      "outputs": [
        {
          "output_type": "stream",
          "text": [
            "Hello World\n"
          ],
          "name": "stdout"
        }
      ]
    },
    {
      "metadata": {
        "id": "i6zmBL7ja-lF",
        "colab_type": "code",
        "colab": {
          "base_uri": "https://localhost:8080/",
          "height": 35
        },
        "outputId": "25968d5c-3d2b-4f81-9e7c-6eafeadbd2e9"
      },
      "cell_type": "code",
      "source": [
        "message = 'Hello World'\n",
        "print(message)"
      ],
      "execution_count": 2,
      "outputs": [
        {
          "output_type": "stream",
          "text": [
            "Hello World\n"
          ],
          "name": "stdout"
        }
      ]
    },
    {
      "metadata": {
        "id": "UaLqyOYrba8G",
        "colab_type": "code",
        "colab": {
          "base_uri": "https://localhost:8080/",
          "height": 69
        },
        "outputId": "47fbfb22-6acc-4f05-9285-fedb8c2f9690"
      },
      "cell_type": "code",
      "source": [
        "print ('What is your name?') \n",
        "\n",
        "name = input() \n",
        "\n",
        "print ('Hello, ', name) "
      ],
      "execution_count": 4,
      "outputs": [
        {
          "output_type": "stream",
          "text": [
            "What is your name?\n",
            "Migs\n",
            "Hello,  Migs\n"
          ],
          "name": "stdout"
        }
      ]
    },
    {
      "metadata": {
        "id": "6HpY1EYbbdW-",
        "colab_type": "code",
        "colab": {
          "base_uri": "https://localhost:8080/",
          "height": 52
        },
        "outputId": "92069bd8-2a13-4cb0-8025-d4266cbde024"
      },
      "cell_type": "code",
      "source": [
        "name = input('What is your name? ') \n",
        "\n",
        "print ('Hello, ', name) "
      ],
      "execution_count": 5,
      "outputs": [
        {
          "output_type": "stream",
          "text": [
            "What is your name? Migs\n",
            "Hello,  Migs\n"
          ],
          "name": "stdout"
        }
      ]
    },
    {
      "metadata": {
        "id": "TLAsHdU-cSdR",
        "colab_type": "code",
        "colab": {
          "base_uri": "https://localhost:8080/",
          "height": 52
        },
        "outputId": "bb660544-394a-4008-d004-4bd56fcec3b6"
      },
      "cell_type": "code",
      "source": [
        "subjects = ['Math', 'Science', 'English']\n",
        "print(subjects[0])\n",
        "print(len(subjects))"
      ],
      "execution_count": 6,
      "outputs": [
        {
          "output_type": "stream",
          "text": [
            "Math\n",
            "3\n"
          ],
          "name": "stdout"
        }
      ]
    },
    {
      "metadata": {
        "id": "whmaHtvwdEme",
        "colab_type": "code",
        "colab": {
          "base_uri": "https://localhost:8080/",
          "height": 35
        },
        "outputId": "5637164c-9ff2-47d8-fd5e-5dcd79410492"
      },
      "cell_type": "code",
      "source": [
        "subjects[1:]"
      ],
      "execution_count": 7,
      "outputs": [
        {
          "output_type": "execute_result",
          "data": {
            "text/plain": [
              "['Science', 'English']"
            ]
          },
          "metadata": {
            "tags": []
          },
          "execution_count": 7
        }
      ]
    },
    {
      "metadata": {
        "id": "aRWb752AdI8r",
        "colab_type": "code",
        "colab": {}
      },
      "cell_type": "code",
      "source": [
        "subjects.append('Filipino')"
      ],
      "execution_count": 0,
      "outputs": []
    },
    {
      "metadata": {
        "id": "iM4RpHcqdwZe",
        "colab_type": "code",
        "colab": {}
      },
      "cell_type": "code",
      "source": [
        "scientist = {'Name:' 'Alan Turing', 'Field:' 'Mathematics'} "
      ],
      "execution_count": 0,
      "outputs": []
    },
    {
      "metadata": {
        "id": "1Fszw8TmgGQ2",
        "colab_type": "code",
        "colab": {}
      },
      "cell_type": "code",
      "source": [
        "import numpy as np\n",
        "\n",
        "#create an array\n",
        "x = np.array([1, 2, 3])"
      ],
      "execution_count": 0,
      "outputs": []
    },
    {
      "metadata": {
        "id": "I6aVkja_gfAK",
        "colab_type": "code",
        "colab": {}
      },
      "cell_type": "code",
      "source": [
        "# create a zero array \n",
        "\n",
        "a= np.zeros((2,2)) \n",
        "\n",
        " \n",
        "\n",
        "#create a one array \n",
        "\n",
        "b= np.ones((2,2)) "
      ],
      "execution_count": 0,
      "outputs": []
    },
    {
      "metadata": {
        "id": "hvUHcZMyggtn",
        "colab_type": "code",
        "colab": {
          "base_uri": "https://localhost:8080/",
          "height": 52
        },
        "outputId": "60456e86-2268-4318-8ead-d774463d5c72"
      },
      "cell_type": "code",
      "source": [
        "a/b"
      ],
      "execution_count": 16,
      "outputs": [
        {
          "output_type": "execute_result",
          "data": {
            "text/plain": [
              "array([[0., 0.],\n",
              "       [0., 0.]])"
            ]
          },
          "metadata": {
            "tags": []
          },
          "execution_count": 16
        }
      ]
    },
    {
      "metadata": {
        "id": "aAbirNOKgkFP",
        "colab_type": "code",
        "colab": {
          "base_uri": "https://localhost:8080/",
          "height": 87
        },
        "outputId": "2bb6ba33-e719-4061-b1a4-6805c8866696"
      },
      "cell_type": "code",
      "source": [
        "b/a"
      ],
      "execution_count": 17,
      "outputs": [
        {
          "output_type": "stream",
          "text": [
            "/usr/local/lib/python3.6/dist-packages/ipykernel_launcher.py:1: RuntimeWarning: divide by zero encountered in true_divide\n",
            "  \"\"\"Entry point for launching an IPython kernel.\n"
          ],
          "name": "stderr"
        },
        {
          "output_type": "execute_result",
          "data": {
            "text/plain": [
              "array([[inf, inf],\n",
              "       [inf, inf]])"
            ]
          },
          "metadata": {
            "tags": []
          },
          "execution_count": 17
        }
      ]
    },
    {
      "metadata": {
        "id": "r4cq4Dk1gmZk",
        "colab_type": "code",
        "colab": {
          "base_uri": "https://localhost:8080/",
          "height": 52
        },
        "outputId": "f7115f87-d778-4ee1-fc27-7ce6c8ceb0f2"
      },
      "cell_type": "code",
      "source": [
        "# create a random int array \n",
        "\n",
        "c= np.random.randint (10, size = (5)) \n",
        "d= np.random.randint (10, size = (5)) \n",
        "\n",
        "print (c, d)\n",
        "print(c*d)"
      ],
      "execution_count": 20,
      "outputs": [
        {
          "output_type": "stream",
          "text": [
            "[8 6 1 7 0] [5 2 1 5 9]\n",
            "[40 12  1 35  0]\n"
          ],
          "name": "stdout"
        }
      ]
    },
    {
      "metadata": {
        "id": "Tbl41NethVwV",
        "colab_type": "code",
        "colab": {
          "base_uri": "https://localhost:8080/",
          "height": 52
        },
        "outputId": "6a510c9b-073c-4703-a435-f21089886abb"
      },
      "cell_type": "code",
      "source": [
        "e=np.random.random ((2,2))\n",
        "print (e)"
      ],
      "execution_count": 22,
      "outputs": [
        {
          "output_type": "stream",
          "text": [
            "[[0.94072645 0.16602825]\n",
            " [0.89449039 0.0837602 ]]\n"
          ],
          "name": "stdout"
        }
      ]
    },
    {
      "metadata": {
        "id": "-vCTC6rejL7w",
        "colab_type": "code",
        "colab": {
          "base_uri": "https://localhost:8080/",
          "height": 35
        },
        "outputId": "0634e45e-066e-4644-fe26-8de7769e967d"
      },
      "cell_type": "code",
      "source": [
        "print(np.sum(c))"
      ],
      "execution_count": 23,
      "outputs": [
        {
          "output_type": "stream",
          "text": [
            "22\n"
          ],
          "name": "stdout"
        }
      ]
    },
    {
      "metadata": {
        "id": "U6QlgZe2jUFQ",
        "colab_type": "code",
        "colab": {
          "base_uri": "https://localhost:8080/",
          "height": 35
        },
        "outputId": "712b8379-c289-4d57-9ddb-06b724ae9370"
      },
      "cell_type": "code",
      "source": [
        "print(np.sum(e, axis=0))"
      ],
      "execution_count": 24,
      "outputs": [
        {
          "output_type": "stream",
          "text": [
            "[1.83521684 0.24978845]\n"
          ],
          "name": "stdout"
        }
      ]
    },
    {
      "metadata": {
        "id": "SCnNAHi8jfRI",
        "colab_type": "code",
        "colab": {}
      },
      "cell_type": "code",
      "source": [
        ""
      ],
      "execution_count": 0,
      "outputs": []
    },
    {
      "metadata": {
        "id": "Ez47tFzYkA0C",
        "colab_type": "text"
      },
      "cell_type": "markdown",
      "source": [
        "EXERCISE FOR NUMPY"
      ]
    },
    {
      "metadata": {
        "id": "2pSpxa9ykDKB",
        "colab_type": "code",
        "colab": {
          "base_uri": "https://localhost:8080/",
          "height": 1265
        },
        "outputId": "39093b3a-77cc-4dc1-e025-e4df620ae901"
      },
      "cell_type": "code",
      "source": [
        "A = np.array([[22, 5, 16, 9], \n",
        "     [13, 20, 19, 0], \n",
        "     [5, 9, 1, 16], \n",
        "     [27, 13, 15, 19]])\n",
        "B = np.array([[10, 5, 20, 20], \n",
        "     [5, 21, 22, 27], \n",
        "     [26, 19, 22, 3], \n",
        "     [27, 8, 18, 7]])\n",
        "C = np.array([24, 3, 17, 7, 11, 2, 21, 2, 24, 18, 3, 11, 14, 25, 2, 20])\n",
        "D = np.array([3, 15, 24, 22, 19, 24, 4, 29, 6, 3, 20, 1, 11, 25, 26, 6])\n",
        "\n",
        "print('\\n1. Element wise addition: \\n', np.add(A,B))\n",
        "print('\\n2. Element wise subtraction: \\n', np.subtract(A,B))\n",
        "print('\\n3. Element wise multiplication: \\n', np.multiply(A,B))\n",
        "print('\\n4. Matrix Multiplication: \\n', np.dot(A,B))\n",
        "print('\\n5. \\n', c+d)\n",
        "print('\\n6. \\n', c-d)\n",
        "print('\\n7. \\n', c*d)\n",
        "print('\\n8. \\n', np.dot(c,d))\n",
        "print('\\n9. \\n', A+10)\n",
        "print('\\n10. \\n', B+10)\n",
        "print('\\n11. \\n', c+15)\n",
        "print('\\n12. \\n', d+15)\n",
        "print('\\n13. \\n', (2*A)+(2*B))\n",
        "print('\\n14. \\n', (A+B)*3)\n",
        "print('\\n15. \\n', (A-B+A-B+B)*4)\n"
      ],
      "execution_count": 37,
      "outputs": [
        {
          "output_type": "stream",
          "text": [
            "\n",
            "1. Element wise addition: \n",
            " [[32 10 36 29]\n",
            " [18 41 41 27]\n",
            " [31 28 23 19]\n",
            " [54 21 33 26]]\n",
            "\n",
            "2. Element wise subtraction: \n",
            " [[ 12   0  -4 -11]\n",
            " [  8  -1  -3 -27]\n",
            " [-21 -10 -21  13]\n",
            " [  0   5  -3  12]]\n",
            "\n",
            "3. Element wise multiplication: \n",
            " [[220  25 320 180]\n",
            " [ 65 420 418   0]\n",
            " [130 171  22  48]\n",
            " [729 104 270 133]]\n",
            "\n",
            "4. Matrix Multiplication: \n",
            " [[ 904  591 1064  686]\n",
            " [ 724  846 1118  857]\n",
            " [ 553  361  608  458]\n",
            " [1238  845 1498 1069]]\n",
            "\n",
            "5. \n",
            " [13  8  2 12  9]\n",
            "\n",
            "6. \n",
            " [ 3  4  0  2 -9]\n",
            "\n",
            "7. \n",
            " [40 12  1 35  0]\n",
            "\n",
            "8. \n",
            " 88\n",
            "\n",
            "9. \n",
            " [[32 15 26 19]\n",
            " [23 30 29 10]\n",
            " [15 19 11 26]\n",
            " [37 23 25 29]]\n",
            "\n",
            "10. \n",
            " [[20 15 30 30]\n",
            " [15 31 32 37]\n",
            " [36 29 32 13]\n",
            " [37 18 28 17]]\n",
            "\n",
            "11. \n",
            " [23 21 16 22 15]\n",
            "\n",
            "12. \n",
            " [20 17 16 20 24]\n",
            "\n",
            "13. \n",
            " [[ 64  20  72  58]\n",
            " [ 36  82  82  54]\n",
            " [ 62  56  46  38]\n",
            " [108  42  66  52]]\n",
            "\n",
            "14. \n",
            " [[ 96  30 108  87]\n",
            " [ 54 123 123  81]\n",
            " [ 93  84  69  57]\n",
            " [162  63  99  78]]\n",
            "\n",
            "15. \n",
            " [[ 136   20   48   -8]\n",
            " [  84   76   64 -108]\n",
            " [ -64   -4  -80  116]\n",
            " [ 108   72   48  124]]\n"
          ],
          "name": "stdout"
        }
      ]
    }
  ]
}